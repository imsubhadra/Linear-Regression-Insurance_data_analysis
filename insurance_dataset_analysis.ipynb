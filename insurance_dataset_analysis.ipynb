{
 "cells": [
  {
   "cell_type": "markdown",
   "id": "b5a4243c",
   "metadata": {},
   "source": [
    "# Insurance  Data Analysis | Linear Regression \n",
    "\n",
    "This dataset contains information related to insurance company. \n",
    "The dataset consisit of only 1338 recods.\n",
    "\n",
    "CONTENT:\n",
    "\n",
    "Columns\n",
    "* age : age of primary benificiary\n",
    "\n",
    "* sex : insurance contractor gender, female, male.\n",
    "\n",
    "* bmi : Body mass index, providing an understanding of body, weights that are relatively high or  low to height, objective       index of body weight(kg/m^2) using the ratio of height to weight, ideally 18.5 to 24.9\n",
    "\n",
    "* children : Number of children covered by health insurance/ Number of dependents\n",
    "* smoker : Smoking \n",
    "* region :  The benificiary's residential area in the US, northeast, southeast, southwest, northwest.\n",
    "* charges : Individual medical costs billed by health insurance.    \n"
   ]
  },
  {
   "cell_type": "markdown",
   "id": "4a7cd931",
   "metadata": {},
   "source": [
    "### Import necessary library"
   ]
  },
  {
   "cell_type": "code",
   "execution_count": 1,
   "id": "0764f0c4",
   "metadata": {},
   "outputs": [],
   "source": [
    "import numpy as np\n",
    "import pandas as pd\n",
    "import matplotlib.pyplot as plt\n",
    "import seaborn as sns\n"
   ]
  },
  {
   "cell_type": "markdown",
   "id": "e8358144",
   "metadata": {},
   "source": [
    "### loading the dataset\n"
   ]
  },
  {
   "cell_type": "code",
   "execution_count": 2,
   "id": "7ca81766",
   "metadata": {},
   "outputs": [],
   "source": [
    "df = pd.read_csv('insurance.csv')"
   ]
  },
  {
   "cell_type": "code",
   "execution_count": 3,
   "id": "5f0c6840",
   "metadata": {},
   "outputs": [
    {
     "data": {
      "text/html": [
       "<div>\n",
       "<style scoped>\n",
       "    .dataframe tbody tr th:only-of-type {\n",
       "        vertical-align: middle;\n",
       "    }\n",
       "\n",
       "    .dataframe tbody tr th {\n",
       "        vertical-align: top;\n",
       "    }\n",
       "\n",
       "    .dataframe thead th {\n",
       "        text-align: right;\n",
       "    }\n",
       "</style>\n",
       "<table border=\"1\" class=\"dataframe\">\n",
       "  <thead>\n",
       "    <tr style=\"text-align: right;\">\n",
       "      <th></th>\n",
       "      <th>age</th>\n",
       "      <th>sex</th>\n",
       "      <th>bmi</th>\n",
       "      <th>children</th>\n",
       "      <th>smoker</th>\n",
       "      <th>region</th>\n",
       "      <th>charges</th>\n",
       "    </tr>\n",
       "  </thead>\n",
       "  <tbody>\n",
       "    <tr>\n",
       "      <th>0</th>\n",
       "      <td>19</td>\n",
       "      <td>female</td>\n",
       "      <td>27.900</td>\n",
       "      <td>0</td>\n",
       "      <td>yes</td>\n",
       "      <td>southwest</td>\n",
       "      <td>16884.92400</td>\n",
       "    </tr>\n",
       "    <tr>\n",
       "      <th>1</th>\n",
       "      <td>18</td>\n",
       "      <td>male</td>\n",
       "      <td>33.770</td>\n",
       "      <td>1</td>\n",
       "      <td>no</td>\n",
       "      <td>southeast</td>\n",
       "      <td>1725.55230</td>\n",
       "    </tr>\n",
       "    <tr>\n",
       "      <th>2</th>\n",
       "      <td>28</td>\n",
       "      <td>male</td>\n",
       "      <td>33.000</td>\n",
       "      <td>3</td>\n",
       "      <td>no</td>\n",
       "      <td>southeast</td>\n",
       "      <td>4449.46200</td>\n",
       "    </tr>\n",
       "    <tr>\n",
       "      <th>3</th>\n",
       "      <td>33</td>\n",
       "      <td>male</td>\n",
       "      <td>22.705</td>\n",
       "      <td>0</td>\n",
       "      <td>no</td>\n",
       "      <td>northwest</td>\n",
       "      <td>21984.47061</td>\n",
       "    </tr>\n",
       "    <tr>\n",
       "      <th>4</th>\n",
       "      <td>32</td>\n",
       "      <td>male</td>\n",
       "      <td>28.880</td>\n",
       "      <td>0</td>\n",
       "      <td>no</td>\n",
       "      <td>northwest</td>\n",
       "      <td>3866.85520</td>\n",
       "    </tr>\n",
       "  </tbody>\n",
       "</table>\n",
       "</div>"
      ],
      "text/plain": [
       "   age     sex     bmi  children smoker     region      charges\n",
       "0   19  female  27.900         0    yes  southwest  16884.92400\n",
       "1   18    male  33.770         1     no  southeast   1725.55230\n",
       "2   28    male  33.000         3     no  southeast   4449.46200\n",
       "3   33    male  22.705         0     no  northwest  21984.47061\n",
       "4   32    male  28.880         0     no  northwest   3866.85520"
      ]
     },
     "execution_count": 3,
     "metadata": {},
     "output_type": "execute_result"
    }
   ],
   "source": [
    "df.head()"
   ]
  },
  {
   "cell_type": "code",
   "execution_count": 4,
   "id": "a3b61e0b",
   "metadata": {},
   "outputs": [
    {
     "data": {
      "text/html": [
       "<div>\n",
       "<style scoped>\n",
       "    .dataframe tbody tr th:only-of-type {\n",
       "        vertical-align: middle;\n",
       "    }\n",
       "\n",
       "    .dataframe tbody tr th {\n",
       "        vertical-align: top;\n",
       "    }\n",
       "\n",
       "    .dataframe thead th {\n",
       "        text-align: right;\n",
       "    }\n",
       "</style>\n",
       "<table border=\"1\" class=\"dataframe\">\n",
       "  <thead>\n",
       "    <tr style=\"text-align: right;\">\n",
       "      <th></th>\n",
       "      <th>age</th>\n",
       "      <th>sex</th>\n",
       "      <th>bmi</th>\n",
       "      <th>children</th>\n",
       "      <th>smoker</th>\n",
       "      <th>region</th>\n",
       "      <th>charges</th>\n",
       "    </tr>\n",
       "  </thead>\n",
       "  <tbody>\n",
       "    <tr>\n",
       "      <th>1333</th>\n",
       "      <td>50</td>\n",
       "      <td>male</td>\n",
       "      <td>30.97</td>\n",
       "      <td>3</td>\n",
       "      <td>no</td>\n",
       "      <td>northwest</td>\n",
       "      <td>10600.5483</td>\n",
       "    </tr>\n",
       "    <tr>\n",
       "      <th>1334</th>\n",
       "      <td>18</td>\n",
       "      <td>female</td>\n",
       "      <td>31.92</td>\n",
       "      <td>0</td>\n",
       "      <td>no</td>\n",
       "      <td>northeast</td>\n",
       "      <td>2205.9808</td>\n",
       "    </tr>\n",
       "    <tr>\n",
       "      <th>1335</th>\n",
       "      <td>18</td>\n",
       "      <td>female</td>\n",
       "      <td>36.85</td>\n",
       "      <td>0</td>\n",
       "      <td>no</td>\n",
       "      <td>southeast</td>\n",
       "      <td>1629.8335</td>\n",
       "    </tr>\n",
       "    <tr>\n",
       "      <th>1336</th>\n",
       "      <td>21</td>\n",
       "      <td>female</td>\n",
       "      <td>25.80</td>\n",
       "      <td>0</td>\n",
       "      <td>no</td>\n",
       "      <td>southwest</td>\n",
       "      <td>2007.9450</td>\n",
       "    </tr>\n",
       "    <tr>\n",
       "      <th>1337</th>\n",
       "      <td>61</td>\n",
       "      <td>female</td>\n",
       "      <td>29.07</td>\n",
       "      <td>0</td>\n",
       "      <td>yes</td>\n",
       "      <td>northwest</td>\n",
       "      <td>29141.3603</td>\n",
       "    </tr>\n",
       "  </tbody>\n",
       "</table>\n",
       "</div>"
      ],
      "text/plain": [
       "      age     sex    bmi  children smoker     region     charges\n",
       "1333   50    male  30.97         3     no  northwest  10600.5483\n",
       "1334   18  female  31.92         0     no  northeast   2205.9808\n",
       "1335   18  female  36.85         0     no  southeast   1629.8335\n",
       "1336   21  female  25.80         0     no  southwest   2007.9450\n",
       "1337   61  female  29.07         0    yes  northwest  29141.3603"
      ]
     },
     "execution_count": 4,
     "metadata": {},
     "output_type": "execute_result"
    }
   ],
   "source": [
    "df.tail()"
   ]
  },
  {
   "cell_type": "code",
   "execution_count": 5,
   "id": "ba44cf3a",
   "metadata": {},
   "outputs": [
    {
     "data": {
      "text/plain": [
       "(1338, 7)"
      ]
     },
     "execution_count": 5,
     "metadata": {},
     "output_type": "execute_result"
    }
   ],
   "source": [
    "df.shape"
   ]
  },
  {
   "cell_type": "markdown",
   "id": "b0ffe4ba",
   "metadata": {},
   "source": [
    "### Finding Null value"
   ]
  },
  {
   "cell_type": "code",
   "execution_count": 6,
   "id": "4d87ed2a",
   "metadata": {},
   "outputs": [
    {
     "data": {
      "text/plain": [
       "age         0\n",
       "sex         0\n",
       "bmi         0\n",
       "children    0\n",
       "smoker      0\n",
       "region      0\n",
       "charges     0\n",
       "dtype: int64"
      ]
     },
     "execution_count": 6,
     "metadata": {},
     "output_type": "execute_result"
    }
   ],
   "source": [
    "df.isnull().sum()"
   ]
  },
  {
   "cell_type": "markdown",
   "id": "db2fbd16",
   "metadata": {},
   "source": [
    "There is no null value in given insurance dataset"
   ]
  },
  {
   "cell_type": "code",
   "execution_count": 7,
   "id": "5c82068a",
   "metadata": {},
   "outputs": [
    {
     "data": {
      "text/html": [
       "<div>\n",
       "<style scoped>\n",
       "    .dataframe tbody tr th:only-of-type {\n",
       "        vertical-align: middle;\n",
       "    }\n",
       "\n",
       "    .dataframe tbody tr th {\n",
       "        vertical-align: top;\n",
       "    }\n",
       "\n",
       "    .dataframe thead th {\n",
       "        text-align: right;\n",
       "    }\n",
       "</style>\n",
       "<table border=\"1\" class=\"dataframe\">\n",
       "  <thead>\n",
       "    <tr style=\"text-align: right;\">\n",
       "      <th></th>\n",
       "      <th>age</th>\n",
       "      <th>bmi</th>\n",
       "      <th>children</th>\n",
       "      <th>charges</th>\n",
       "    </tr>\n",
       "  </thead>\n",
       "  <tbody>\n",
       "    <tr>\n",
       "      <th>count</th>\n",
       "      <td>1338.000000</td>\n",
       "      <td>1338.000000</td>\n",
       "      <td>1338.000000</td>\n",
       "      <td>1338.000000</td>\n",
       "    </tr>\n",
       "    <tr>\n",
       "      <th>mean</th>\n",
       "      <td>39.207025</td>\n",
       "      <td>30.663397</td>\n",
       "      <td>1.094918</td>\n",
       "      <td>13270.422265</td>\n",
       "    </tr>\n",
       "    <tr>\n",
       "      <th>std</th>\n",
       "      <td>14.049960</td>\n",
       "      <td>6.098187</td>\n",
       "      <td>1.205493</td>\n",
       "      <td>12110.011237</td>\n",
       "    </tr>\n",
       "    <tr>\n",
       "      <th>min</th>\n",
       "      <td>18.000000</td>\n",
       "      <td>15.960000</td>\n",
       "      <td>0.000000</td>\n",
       "      <td>1121.873900</td>\n",
       "    </tr>\n",
       "    <tr>\n",
       "      <th>25%</th>\n",
       "      <td>27.000000</td>\n",
       "      <td>26.296250</td>\n",
       "      <td>0.000000</td>\n",
       "      <td>4740.287150</td>\n",
       "    </tr>\n",
       "    <tr>\n",
       "      <th>50%</th>\n",
       "      <td>39.000000</td>\n",
       "      <td>30.400000</td>\n",
       "      <td>1.000000</td>\n",
       "      <td>9382.033000</td>\n",
       "    </tr>\n",
       "    <tr>\n",
       "      <th>75%</th>\n",
       "      <td>51.000000</td>\n",
       "      <td>34.693750</td>\n",
       "      <td>2.000000</td>\n",
       "      <td>16639.912515</td>\n",
       "    </tr>\n",
       "    <tr>\n",
       "      <th>max</th>\n",
       "      <td>64.000000</td>\n",
       "      <td>53.130000</td>\n",
       "      <td>5.000000</td>\n",
       "      <td>63770.428010</td>\n",
       "    </tr>\n",
       "  </tbody>\n",
       "</table>\n",
       "</div>"
      ],
      "text/plain": [
       "               age          bmi     children       charges\n",
       "count  1338.000000  1338.000000  1338.000000   1338.000000\n",
       "mean     39.207025    30.663397     1.094918  13270.422265\n",
       "std      14.049960     6.098187     1.205493  12110.011237\n",
       "min      18.000000    15.960000     0.000000   1121.873900\n",
       "25%      27.000000    26.296250     0.000000   4740.287150\n",
       "50%      39.000000    30.400000     1.000000   9382.033000\n",
       "75%      51.000000    34.693750     2.000000  16639.912515\n",
       "max      64.000000    53.130000     5.000000  63770.428010"
      ]
     },
     "execution_count": 7,
     "metadata": {},
     "output_type": "execute_result"
    }
   ],
   "source": [
    "df.describe()"
   ]
  },
  {
   "cell_type": "code",
   "execution_count": 8,
   "id": "b2bdd0a9",
   "metadata": {},
   "outputs": [
    {
     "name": "stdout",
     "output_type": "stream",
     "text": [
      "<class 'pandas.core.frame.DataFrame'>\n",
      "RangeIndex: 1338 entries, 0 to 1337\n",
      "Data columns (total 7 columns):\n",
      " #   Column    Non-Null Count  Dtype  \n",
      "---  ------    --------------  -----  \n",
      " 0   age       1338 non-null   int64  \n",
      " 1   sex       1338 non-null   object \n",
      " 2   bmi       1338 non-null   float64\n",
      " 3   children  1338 non-null   int64  \n",
      " 4   smoker    1338 non-null   object \n",
      " 5   region    1338 non-null   object \n",
      " 6   charges   1338 non-null   float64\n",
      "dtypes: float64(2), int64(2), object(3)\n",
      "memory usage: 73.3+ KB\n"
     ]
    }
   ],
   "source": [
    " df.info()"
   ]
  },
  {
   "cell_type": "markdown",
   "id": "aa9a5d66",
   "metadata": {},
   "source": [
    "#### ploting pie plot of customer's children"
   ]
  },
  {
   "cell_type": "code",
   "execution_count": 9,
   "id": "b4655a42",
   "metadata": {},
   "outputs": [
    {
     "data": {
      "text/plain": [
       "([<matplotlib.patches.Wedge at 0x161d8b5fbe0>,\n",
       "  <matplotlib.patches.Wedge at 0x161d8b753d0>,\n",
       "  <matplotlib.patches.Wedge at 0x161d8b75af0>,\n",
       "  <matplotlib.patches.Wedge at 0x161d9222250>,\n",
       "  <matplotlib.patches.Wedge at 0x161d9222970>,\n",
       "  <matplotlib.patches.Wedge at 0x161d922d0d0>],\n",
       " [Text(0.2433339569121191, 1.0727481463109088, '0'),\n",
       "  Text(-1.046002438240317, -0.3404098987916066, '1'),\n",
       "  Text(0.0748425389560056, -1.0974509530555883, '2'),\n",
       "  Text(0.9257594837824609, -0.5941122605929219, '3'),\n",
       "  Text(1.0887366469207436, -0.1570111895750635, '4'),\n",
       "  Text(1.0990177277424016, -0.046476167095929784, '5')],\n",
       " [Text(0.13272761286115586, 0.5851353525332229, '42.9%'),\n",
       "  Text(-0.5705467844947183, -0.18567812661360358, '24.2%'),\n",
       "  Text(0.04082320306691214, -0.5986096107575936, '17.9%'),\n",
       "  Text(0.5049597184267968, -0.3240612330506846, '11.7%'),\n",
       "  Text(0.59385635286586, -0.0856424670409437, '1.9%'),\n",
       "  Text(0.5994642151322189, -0.02535063659777988, '1.3%')])"
      ]
     },
     "execution_count": 9,
     "metadata": {},
     "output_type": "execute_result"
    },
    {
     "data": {
      "image/png": "[encoded data removed]",
      "text/plain": [
       "<Figure size 504x504 with 1 Axes>"
      ]
     },
     "metadata": {},
     "output_type": "display_data"
    }
   ],
   "source": [
    "#making a pie diagram for number of childern \n",
    "plt.figure(figsize=(7,7))\n",
    "plt.pie(list(df['children'].value_counts()),labels=list(df['children'].value_counts().keys()),autopct='%0.1f%%')"
   ]
  },
  {
   "cell_type": "code",
   "execution_count": 10,
   "id": "7ef8d63b",
   "metadata": {
    "scrolled": true
   },
   "outputs": [
    {
     "data": {
      "image/png": "[encoded data removed]",
      "text/plain": [
       "<Figure size 1152x648 with 1 Axes>"
      ]
     },
     "metadata": {
      "needs_background": "light"
     },
     "output_type": "display_data"
    }
   ],
   "source": [
    "#histogram for number of children\n",
    "plt.figure(figsize=(16,9))\n",
    "plt.hist(data= df, x =\"children\", bins= 11, color= \"green\")\n",
    "plt.title('No. of children')\n",
    "plt.show()"
   ]
  },
  {
   "cell_type": "code",
   "execution_count": 11,
   "id": "937d3c97",
   "metadata": {},
   "outputs": [
    {
     "data": {
      "text/plain": [
       "0       yes\n",
       "1        no\n",
       "2        no\n",
       "3        no\n",
       "4        no\n",
       "       ... \n",
       "1333     no\n",
       "1334     no\n",
       "1335     no\n",
       "1336     no\n",
       "1337    yes\n",
       "Name: smoker, Length: 1338, dtype: object"
      ]
     },
     "execution_count": 11,
     "metadata": {},
     "output_type": "execute_result"
    }
   ],
   "source": [
    "#checking for the smoker\n",
    "df[\"smoker\"]"
   ]
  },
  {
   "cell_type": "code",
   "execution_count": 12,
   "id": "496656c0",
   "metadata": {},
   "outputs": [
    {
     "data": {
      "text/plain": [
       "no     1064\n",
       "yes     274\n",
       "Name: smoker, dtype: int64"
      ]
     },
     "execution_count": 12,
     "metadata": {},
     "output_type": "execute_result"
    }
   ],
   "source": [
    "##looking at the number of smoker in the dataset\n",
    "df['smoker'].value_counts()"
   ]
  },
  {
   "cell_type": "code",
   "execution_count": 13,
   "id": "577e8133",
   "metadata": {},
   "outputs": [
    {
     "data": {
      "text/plain": [
       "(array([ 274.,    0.,    0.,    0.,    0.,    0.,    0.,    0.,    0.,\n",
       "        1064.]),\n",
       " array([0. , 0.1, 0.2, 0.3, 0.4, 0.5, 0.6, 0.7, 0.8, 0.9, 1. ]),\n",
       " <BarContainer object of 10 artists>)"
      ]
     },
     "execution_count": 13,
     "metadata": {},
     "output_type": "execute_result"
    },
    {
     "data": {
      "image/png": "[encoded data removed]",
      "text/plain": [
       "<Figure size 432x288 with 1 Axes>"
      ]
     },
     "metadata": {
      "needs_background": "light"
     },
     "output_type": "display_data"
    }
   ],
   "source": [
    "#making histogram for smoker\n",
    "plt.hist(data= df, x =\"smoker\")\n"
   ]
  },
  {
   "cell_type": "code",
   "execution_count": 14,
   "id": "e5c4e787",
   "metadata": {},
   "outputs": [
    {
     "data": {
      "text/plain": [
       "([<matplotlib.patches.Wedge at 0x161d93f93a0>,\n",
       "  <matplotlib.patches.Wedge at 0x161d93f9a00>],\n",
       " [Text(-0.8801026332278259, 0.6598631335250117, 'no'),\n",
       "  Text(0.8801026332278258, -0.6598631335250118, 'yes')],\n",
       " [Text(-0.48005598176063224, 0.3599253455590972, '79.5%'),\n",
       "  Text(0.48005598176063213, -0.3599253455590973, '20.5%')])"
      ]
     },
     "execution_count": 14,
     "metadata": {},
     "output_type": "execute_result"
    },
    {
     "data": {
      "image/png": "[encoded data removed]",
      "text/plain": [
       "<Figure size 504x504 with 1 Axes>"
      ]
     },
     "metadata": {},
     "output_type": "display_data"
    }
   ],
   "source": [
    "#making a pie plot for the smoker in dataset\n",
    "plt.figure(figsize=(7,7))\n",
    "plt.pie(list(df['smoker'].value_counts()),labels=list(df['smoker'].value_counts().keys()),autopct='%0.1f%%')"
   ]
  },
  {
   "cell_type": "code",
   "execution_count": 15,
   "id": "5677090c",
   "metadata": {},
   "outputs": [
    {
     "data": {
      "text/plain": [
       "<AxesSubplot:xlabel='smoker', ylabel='children'>"
      ]
     },
     "execution_count": 15,
     "metadata": {},
     "output_type": "execute_result"
    },
    {
     "data": {
      "image/png": "[encoded data removed]",
      "text/plain": [
       "<Figure size 720x648 with 1 Axes>"
      ]
     },
     "metadata": {
      "needs_background": "light"
     },
     "output_type": "display_data"
    }
   ],
   "source": [
    "\n",
    "plt.figure(figsize=(10,9))\n",
    "sns.boxplot(data= df,y=\"children\",x=\"smoker\",hue=\"sex\", palette=\"rainbow\")"
   ]
  },
  {
   "cell_type": "code",
   "execution_count": 16,
   "id": "fb9474f3",
   "metadata": {},
   "outputs": [
    {
     "data": {
      "text/plain": [
       "([<matplotlib.patches.Wedge at 0x161d950bc70>,\n",
       "  <matplotlib.patches.Wedge at 0x161d94d8430>],\n",
       " [Text(-0.018078568997004985, 1.0998514287589123, 'male'),\n",
       "  Text(0.018078568997005343, -1.0998514287589123, 'female')],\n",
       " [Text(-0.009861037634729992, 0.5999189611412249, '50.5%'),\n",
       "  Text(0.009861037634730185, -0.5999189611412248, '49.5%')])"
      ]
     },
     "execution_count": 16,
     "metadata": {},
     "output_type": "execute_result"
    },
    {
     "data": {
      "image/png": "[encoded data removed]",
      "text/plain": [
       "<Figure size 504x504 with 1 Axes>"
      ]
     },
     "metadata": {},
     "output_type": "display_data"
    }
   ],
   "source": [
    "##making a pie diagram for male and female in data set\n",
    "plt.figure(figsize=(7,7))\n",
    "plt.pie(list(df['sex'].value_counts()),labels=list(df['sex'].value_counts().keys()),autopct='%0.1f%%')"
   ]
  },
  {
   "cell_type": "code",
   "execution_count": 17,
   "id": "c651528d",
   "metadata": {},
   "outputs": [
    {
     "data": {
      "text/plain": [
       "southeast    364\n",
       "southwest    325\n",
       "northwest    325\n",
       "northeast    324\n",
       "Name: region, dtype: int64"
      ]
     },
     "execution_count": 17,
     "metadata": {},
     "output_type": "execute_result"
    }
   ],
   "source": [
    "df[\"region\"].value_counts()"
   ]
  },
  {
   "cell_type": "markdown",
   "id": "c7b4c187",
   "metadata": {},
   "source": [
    " making a pie plot for the belonging region\n"
   ]
  },
  {
   "cell_type": "code",
   "execution_count": 18,
   "id": "0ba0fa26",
   "metadata": {},
   "outputs": [
    {
     "data": {
      "text/plain": [
       "([<matplotlib.patches.Wedge at 0x161d955f4f0>,\n",
       "  <matplotlib.patches.Wedge at 0x161d955fc70>,\n",
       "  <matplotlib.patches.Wedge at 0x161d956e3d0>,\n",
       "  <matplotlib.patches.Wedge at 0x161d956eb20>],\n",
       " [Text(0.722119686055283, 0.8297850077046582, 'southeast'),\n",
       "  Text(-0.8627681631663758, 0.6823716704454532, 'southwest'),\n",
       "  Text(-0.7201694244483215, -0.8314782018127556, 'northwest'),\n",
       "  Text(0.7967551940047443, -0.7584069889092945, 'northeast')],\n",
       " [Text(0.39388346512106337, 0.4526100042025408, '27.2%'),\n",
       "  Text(-0.47060081627256856, 0.37220272933388354, '24.3%'),\n",
       "  Text(-0.3928196860627208, -0.45353356462513933, '24.3%'),\n",
       "  Text(0.4345937421844059, -0.41367653940506965, '24.2%')])"
      ]
     },
     "execution_count": 18,
     "metadata": {},
     "output_type": "execute_result"
    },
    {
     "data": {
      "image/png": "[encoded data removed]",
      "text/plain": [
       "<Figure size 720x360 with 1 Axes>"
      ]
     },
     "metadata": {},
     "output_type": "display_data"
    }
   ],
   "source": [
    "\n",
    "plt.figure(figsize=(10,5))\n",
    "plt.pie(list(df['region'].value_counts()),\n",
    "        labels=list(df['region'].value_counts().keys()),\n",
    "        autopct='%0.1f%%')"
   ]
  },
  {
   "cell_type": "markdown",
   "id": "a333e5d2",
   "metadata": {},
   "source": [
    "By the above pie plot southeast customers take more insurance in compare to other region.\n"
   ]
  },
  {
   "cell_type": "code",
   "execution_count": 19,
   "id": "bb853738",
   "metadata": {},
   "outputs": [
    {
     "data": {
      "text/html": [
       "<div>\n",
       "<style scoped>\n",
       "    .dataframe tbody tr th:only-of-type {\n",
       "        vertical-align: middle;\n",
       "    }\n",
       "\n",
       "    .dataframe tbody tr th {\n",
       "        vertical-align: top;\n",
       "    }\n",
       "\n",
       "    .dataframe thead th {\n",
       "        text-align: right;\n",
       "    }\n",
       "</style>\n",
       "<table border=\"1\" class=\"dataframe\">\n",
       "  <thead>\n",
       "    <tr style=\"text-align: right;\">\n",
       "      <th></th>\n",
       "      <th>age</th>\n",
       "      <th>bmi</th>\n",
       "      <th>children</th>\n",
       "      <th>charges</th>\n",
       "      <th>sex_male</th>\n",
       "      <th>smoker_yes</th>\n",
       "      <th>region_northwest</th>\n",
       "      <th>region_southeast</th>\n",
       "      <th>region_southwest</th>\n",
       "    </tr>\n",
       "  </thead>\n",
       "  <tbody>\n",
       "    <tr>\n",
       "      <th>0</th>\n",
       "      <td>19</td>\n",
       "      <td>27.900</td>\n",
       "      <td>0</td>\n",
       "      <td>16884.92400</td>\n",
       "      <td>0</td>\n",
       "      <td>1</td>\n",
       "      <td>0</td>\n",
       "      <td>0</td>\n",
       "      <td>1</td>\n",
       "    </tr>\n",
       "    <tr>\n",
       "      <th>1</th>\n",
       "      <td>18</td>\n",
       "      <td>33.770</td>\n",
       "      <td>1</td>\n",
       "      <td>1725.55230</td>\n",
       "      <td>1</td>\n",
       "      <td>0</td>\n",
       "      <td>0</td>\n",
       "      <td>1</td>\n",
       "      <td>0</td>\n",
       "    </tr>\n",
       "    <tr>\n",
       "      <th>2</th>\n",
       "      <td>28</td>\n",
       "      <td>33.000</td>\n",
       "      <td>3</td>\n",
       "      <td>4449.46200</td>\n",
       "      <td>1</td>\n",
       "      <td>0</td>\n",
       "      <td>0</td>\n",
       "      <td>1</td>\n",
       "      <td>0</td>\n",
       "    </tr>\n",
       "    <tr>\n",
       "      <th>3</th>\n",
       "      <td>33</td>\n",
       "      <td>22.705</td>\n",
       "      <td>0</td>\n",
       "      <td>21984.47061</td>\n",
       "      <td>1</td>\n",
       "      <td>0</td>\n",
       "      <td>1</td>\n",
       "      <td>0</td>\n",
       "      <td>0</td>\n",
       "    </tr>\n",
       "    <tr>\n",
       "      <th>4</th>\n",
       "      <td>32</td>\n",
       "      <td>28.880</td>\n",
       "      <td>0</td>\n",
       "      <td>3866.85520</td>\n",
       "      <td>1</td>\n",
       "      <td>0</td>\n",
       "      <td>1</td>\n",
       "      <td>0</td>\n",
       "      <td>0</td>\n",
       "    </tr>\n",
       "    <tr>\n",
       "      <th>...</th>\n",
       "      <td>...</td>\n",
       "      <td>...</td>\n",
       "      <td>...</td>\n",
       "      <td>...</td>\n",
       "      <td>...</td>\n",
       "      <td>...</td>\n",
       "      <td>...</td>\n",
       "      <td>...</td>\n",
       "      <td>...</td>\n",
       "    </tr>\n",
       "    <tr>\n",
       "      <th>1333</th>\n",
       "      <td>50</td>\n",
       "      <td>30.970</td>\n",
       "      <td>3</td>\n",
       "      <td>10600.54830</td>\n",
       "      <td>1</td>\n",
       "      <td>0</td>\n",
       "      <td>1</td>\n",
       "      <td>0</td>\n",
       "      <td>0</td>\n",
       "    </tr>\n",
       "    <tr>\n",
       "      <th>1334</th>\n",
       "      <td>18</td>\n",
       "      <td>31.920</td>\n",
       "      <td>0</td>\n",
       "      <td>2205.98080</td>\n",
       "      <td>0</td>\n",
       "      <td>0</td>\n",
       "      <td>0</td>\n",
       "      <td>0</td>\n",
       "      <td>0</td>\n",
       "    </tr>\n",
       "    <tr>\n",
       "      <th>1335</th>\n",
       "      <td>18</td>\n",
       "      <td>36.850</td>\n",
       "      <td>0</td>\n",
       "      <td>1629.83350</td>\n",
       "      <td>0</td>\n",
       "      <td>0</td>\n",
       "      <td>0</td>\n",
       "      <td>1</td>\n",
       "      <td>0</td>\n",
       "    </tr>\n",
       "    <tr>\n",
       "      <th>1336</th>\n",
       "      <td>21</td>\n",
       "      <td>25.800</td>\n",
       "      <td>0</td>\n",
       "      <td>2007.94500</td>\n",
       "      <td>0</td>\n",
       "      <td>0</td>\n",
       "      <td>0</td>\n",
       "      <td>0</td>\n",
       "      <td>1</td>\n",
       "    </tr>\n",
       "    <tr>\n",
       "      <th>1337</th>\n",
       "      <td>61</td>\n",
       "      <td>29.070</td>\n",
       "      <td>0</td>\n",
       "      <td>29141.36030</td>\n",
       "      <td>0</td>\n",
       "      <td>1</td>\n",
       "      <td>1</td>\n",
       "      <td>0</td>\n",
       "      <td>0</td>\n",
       "    </tr>\n",
       "  </tbody>\n",
       "</table>\n",
       "<p>1338 rows × 9 columns</p>\n",
       "</div>"
      ],
      "text/plain": [
       "      age     bmi  children      charges  sex_male  smoker_yes  \\\n",
       "0      19  27.900         0  16884.92400         0           1   \n",
       "1      18  33.770         1   1725.55230         1           0   \n",
       "2      28  33.000         3   4449.46200         1           0   \n",
       "3      33  22.705         0  21984.47061         1           0   \n",
       "4      32  28.880         0   3866.85520         1           0   \n",
       "...   ...     ...       ...          ...       ...         ...   \n",
       "1333   50  30.970         3  10600.54830         1           0   \n",
       "1334   18  31.920         0   2205.98080         0           0   \n",
       "1335   18  36.850         0   1629.83350         0           0   \n",
       "1336   21  25.800         0   2007.94500         0           0   \n",
       "1337   61  29.070         0  29141.36030         0           1   \n",
       "\n",
       "      region_northwest  region_southeast  region_southwest  \n",
       "0                    0                 0                 1  \n",
       "1                    0                 1                 0  \n",
       "2                    0                 1                 0  \n",
       "3                    1                 0                 0  \n",
       "4                    1                 0                 0  \n",
       "...                ...               ...               ...  \n",
       "1333                 1                 0                 0  \n",
       "1334                 0                 0                 0  \n",
       "1335                 0                 1                 0  \n",
       "1336                 0                 0                 1  \n",
       "1337                 1                 0                 0  \n",
       "\n",
       "[1338 rows x 9 columns]"
      ]
     },
     "execution_count": 19,
     "metadata": {},
     "output_type": "execute_result"
    }
   ],
   "source": [
    "df1= pd.get_dummies(df,drop_first=True)\n",
    "df1"
   ]
  },
  {
   "cell_type": "markdown",
   "id": "7b27b612",
   "metadata": {},
   "source": [
    "## Linear Regression Model Fitting"
   ]
  },
  {
   "cell_type": "code",
   "execution_count": 20,
   "id": "f6daf757",
   "metadata": {},
   "outputs": [],
   "source": [
    "from sklearn.model_selection import train_test_split"
   ]
  },
  {
   "cell_type": "code",
   "execution_count": 21,
   "id": "6868489d",
   "metadata": {},
   "outputs": [],
   "source": [
    "x= df1.drop(\"charges\",axis=1)\n",
    "y= df1[\"charges\"]"
   ]
  },
  {
   "cell_type": "code",
   "execution_count": 22,
   "id": "7f6a496a",
   "metadata": {},
   "outputs": [
    {
     "data": {
      "text/html": [
       "<div>\n",
       "<style scoped>\n",
       "    .dataframe tbody tr th:only-of-type {\n",
       "        vertical-align: middle;\n",
       "    }\n",
       "\n",
       "    .dataframe tbody tr th {\n",
       "        vertical-align: top;\n",
       "    }\n",
       "\n",
       "    .dataframe thead th {\n",
       "        text-align: right;\n",
       "    }\n",
       "</style>\n",
       "<table border=\"1\" class=\"dataframe\">\n",
       "  <thead>\n",
       "    <tr style=\"text-align: right;\">\n",
       "      <th></th>\n",
       "      <th>age</th>\n",
       "      <th>bmi</th>\n",
       "      <th>children</th>\n",
       "      <th>charges</th>\n",
       "      <th>sex_male</th>\n",
       "      <th>smoker_yes</th>\n",
       "      <th>region_northwest</th>\n",
       "      <th>region_southeast</th>\n",
       "      <th>region_southwest</th>\n",
       "    </tr>\n",
       "  </thead>\n",
       "  <tbody>\n",
       "    <tr>\n",
       "      <th>0</th>\n",
       "      <td>19</td>\n",
       "      <td>27.900</td>\n",
       "      <td>0</td>\n",
       "      <td>16884.92400</td>\n",
       "      <td>0</td>\n",
       "      <td>1</td>\n",
       "      <td>0</td>\n",
       "      <td>0</td>\n",
       "      <td>1</td>\n",
       "    </tr>\n",
       "    <tr>\n",
       "      <th>1</th>\n",
       "      <td>18</td>\n",
       "      <td>33.770</td>\n",
       "      <td>1</td>\n",
       "      <td>1725.55230</td>\n",
       "      <td>1</td>\n",
       "      <td>0</td>\n",
       "      <td>0</td>\n",
       "      <td>1</td>\n",
       "      <td>0</td>\n",
       "    </tr>\n",
       "    <tr>\n",
       "      <th>2</th>\n",
       "      <td>28</td>\n",
       "      <td>33.000</td>\n",
       "      <td>3</td>\n",
       "      <td>4449.46200</td>\n",
       "      <td>1</td>\n",
       "      <td>0</td>\n",
       "      <td>0</td>\n",
       "      <td>1</td>\n",
       "      <td>0</td>\n",
       "    </tr>\n",
       "    <tr>\n",
       "      <th>3</th>\n",
       "      <td>33</td>\n",
       "      <td>22.705</td>\n",
       "      <td>0</td>\n",
       "      <td>21984.47061</td>\n",
       "      <td>1</td>\n",
       "      <td>0</td>\n",
       "      <td>1</td>\n",
       "      <td>0</td>\n",
       "      <td>0</td>\n",
       "    </tr>\n",
       "    <tr>\n",
       "      <th>4</th>\n",
       "      <td>32</td>\n",
       "      <td>28.880</td>\n",
       "      <td>0</td>\n",
       "      <td>3866.85520</td>\n",
       "      <td>1</td>\n",
       "      <td>0</td>\n",
       "      <td>1</td>\n",
       "      <td>0</td>\n",
       "      <td>0</td>\n",
       "    </tr>\n",
       "  </tbody>\n",
       "</table>\n",
       "</div>"
      ],
      "text/plain": [
       "   age     bmi  children      charges  sex_male  smoker_yes  region_northwest  \\\n",
       "0   19  27.900         0  16884.92400         0           1                 0   \n",
       "1   18  33.770         1   1725.55230         1           0                 0   \n",
       "2   28  33.000         3   4449.46200         1           0                 0   \n",
       "3   33  22.705         0  21984.47061         1           0                 1   \n",
       "4   32  28.880         0   3866.85520         1           0                 1   \n",
       "\n",
       "   region_southeast  region_southwest  \n",
       "0                 0                 1  \n",
       "1                 1                 0  \n",
       "2                 1                 0  \n",
       "3                 0                 0  \n",
       "4                 0                 0  "
      ]
     },
     "execution_count": 22,
     "metadata": {},
     "output_type": "execute_result"
    }
   ],
   "source": [
    "df1.head()"
   ]
  },
  {
   "cell_type": "markdown",
   "id": "087e1dba",
   "metadata": {},
   "source": [
    "### Split Dataset to train & test "
   ]
  },
  {
   "cell_type": "code",
   "execution_count": 23,
   "id": "ae4e5c1a",
   "metadata": {},
   "outputs": [],
   "source": [
    "x_train, x_test,y_train,y_test= train_test_split(x,y,test_size=0.17,random_state= 1)\n",
    "\n",
    "\n",
    "# we have consider 85% for train \n",
    "# we have consider 15% for test"
   ]
  },
  {
   "cell_type": "code",
   "execution_count": 24,
   "id": "033d58c7",
   "metadata": {},
   "outputs": [
    {
     "name": "stdout",
     "output_type": "stream",
     "text": [
      "(1110, 8)\n",
      "(228, 8)\n"
     ]
    }
   ],
   "source": [
    "print(x_train.shape)\n",
    "print(x_test.shape)"
   ]
  },
  {
   "cell_type": "markdown",
   "id": "5dc3f807",
   "metadata": {},
   "source": [
    "### Train the model using the X_train and y_train"
   ]
  },
  {
   "cell_type": "code",
   "execution_count": 25,
   "id": "cba2311d",
   "metadata": {},
   "outputs": [
    {
     "data": {
      "text/plain": [
       "LinearRegression()"
      ]
     },
     "execution_count": 25,
     "metadata": {},
     "output_type": "execute_result"
    }
   ],
   "source": [
    "from sklearn.linear_model import LinearRegression\n",
    "lr = LinearRegression()\n",
    "lr.fit(x_train, y_train)"
   ]
  },
  {
   "cell_type": "code",
   "execution_count": 26,
   "id": "66e2cd28",
   "metadata": {},
   "outputs": [
    {
     "data": {
      "text/plain": [
       "array([  260.27525521,   326.65825401,   411.78860869,  -247.65353565,\n",
       "       23811.30992624,  -444.12943215,  -966.5609156 ,  -926.52670307])"
      ]
     },
     "execution_count": 26,
     "metadata": {},
     "output_type": "execute_result"
    }
   ],
   "source": [
    "lr.coef_"
   ]
  },
  {
   "cell_type": "code",
   "execution_count": 27,
   "id": "76e3b405",
   "metadata": {},
   "outputs": [
    {
     "data": {
      "text/plain": [
       "-11564.391314816767"
      ]
     },
     "execution_count": 27,
     "metadata": {},
     "output_type": "execute_result"
    }
   ],
   "source": [
    "lr.intercept_"
   ]
  },
  {
   "cell_type": "code",
   "execution_count": 28,
   "id": "c14239c3",
   "metadata": {},
   "outputs": [
    {
     "data": {
      "text/html": [
       "<div>\n",
       "<style scoped>\n",
       "    .dataframe tbody tr th:only-of-type {\n",
       "        vertical-align: middle;\n",
       "    }\n",
       "\n",
       "    .dataframe tbody tr th {\n",
       "        vertical-align: top;\n",
       "    }\n",
       "\n",
       "    .dataframe thead th {\n",
       "        text-align: right;\n",
       "    }\n",
       "</style>\n",
       "<table border=\"1\" class=\"dataframe\">\n",
       "  <thead>\n",
       "    <tr style=\"text-align: right;\">\n",
       "      <th></th>\n",
       "      <th>Coeficient</th>\n",
       "    </tr>\n",
       "  </thead>\n",
       "  <tbody>\n",
       "    <tr>\n",
       "      <th>age</th>\n",
       "      <td>260.275255</td>\n",
       "    </tr>\n",
       "    <tr>\n",
       "      <th>bmi</th>\n",
       "      <td>326.658254</td>\n",
       "    </tr>\n",
       "    <tr>\n",
       "      <th>children</th>\n",
       "      <td>411.788609</td>\n",
       "    </tr>\n",
       "    <tr>\n",
       "      <th>sex_male</th>\n",
       "      <td>-247.653536</td>\n",
       "    </tr>\n",
       "    <tr>\n",
       "      <th>smoker_yes</th>\n",
       "      <td>23811.309926</td>\n",
       "    </tr>\n",
       "    <tr>\n",
       "      <th>region_northwest</th>\n",
       "      <td>-444.129432</td>\n",
       "    </tr>\n",
       "    <tr>\n",
       "      <th>region_southeast</th>\n",
       "      <td>-966.560916</td>\n",
       "    </tr>\n",
       "    <tr>\n",
       "      <th>region_southwest</th>\n",
       "      <td>-926.526703</td>\n",
       "    </tr>\n",
       "  </tbody>\n",
       "</table>\n",
       "</div>"
      ],
      "text/plain": [
       "                    Coeficient\n",
       "age                 260.275255\n",
       "bmi                 326.658254\n",
       "children            411.788609\n",
       "sex_male           -247.653536\n",
       "smoker_yes        23811.309926\n",
       "region_northwest   -444.129432\n",
       "region_southeast   -966.560916\n",
       "region_southwest   -926.526703"
      ]
     },
     "execution_count": 28,
     "metadata": {},
     "output_type": "execute_result"
    }
   ],
   "source": [
    "pd.DataFrame(lr.coef_, x.columns, columns=[\"Coeficient\"])"
   ]
  },
  {
   "cell_type": "markdown",
   "id": "c7d5f4fb",
   "metadata": {},
   "source": [
    "### Now  Predicting test data "
   ]
  },
  {
   "cell_type": "code",
   "execution_count": 29,
   "id": "63315904",
   "metadata": {},
   "outputs": [
    {
     "data": {
      "text/plain": [
       "array([ 4295.22333156, 12882.31659619, 12621.8218609 , 13423.39294568,\n",
       "         423.47647917])"
      ]
     },
     "execution_count": 29,
     "metadata": {},
     "output_type": "execute_result"
    }
   ],
   "source": [
    "x_test[0:5]\n",
    "lr.predict(x_test[0:5])"
   ]
  },
  {
   "cell_type": "code",
   "execution_count": 30,
   "id": "a11cb6bf",
   "metadata": {},
   "outputs": [
    {
     "data": {
      "text/plain": [
       "array([ 4295.22333156, 12882.31659619, 12621.8218609 , 13423.39294568,\n",
       "         423.47647917, 32092.81173687, 13051.41006487, 12351.81575071,\n",
       "        3718.30139229, 29534.32004471, 11098.4900534 , 17642.46344351,\n",
       "        8759.83433948,  8325.52067621,  3153.19251348, 10443.29718535,\n",
       "        3749.68479683,  6902.51537688, 15166.6358725 , 14491.20183866,\n",
       "       12583.65536663, 33079.98599756,  9025.64095923,  8964.30076395,\n",
       "        2957.87659866,  8105.62749512,  9552.52677964, 10849.77962614,\n",
       "        7668.79917862,  4312.93195315, 14190.6503765 ,  5754.13719951,\n",
       "       34662.61608711, 26927.2969608 , 33453.05163844,  9482.74298135,\n",
       "       30412.03239582, 26580.79029513, 15321.01739124, 33888.40772875,\n",
       "        6360.05451542, 14073.56787534, 10809.07556558, 15148.47833671,\n",
       "        4110.32690587, 13145.26323592,  4372.99089613, 28668.94479332,\n",
       "        7161.69875391, 14321.31050896, 13410.78588122, 12349.5483805 ,\n",
       "        1717.53284122,  8851.95142099, 26033.37810813, 10242.68392892,\n",
       "       34343.5522468 , 14591.30201086,  3158.81297598,  5955.92033291,\n",
       "        6623.1979359 , 15019.23026596, 26984.97083129,  3163.44022582,\n",
       "       15876.12623947, 11199.888181  , 11104.50435661, 10549.79085674,\n",
       "        1385.9240508 , 25196.55210892, 37589.6246305 , 33171.2863184 ,\n",
       "        1894.73537218, 11319.13520069, 13687.17232616, 35022.862219  ,\n",
       "        3079.31502582,  3896.20825229, 10348.95010067, 10393.79865137,\n",
       "        -194.06380538, 14084.68005555, 10297.34779635,  3079.12141421,\n",
       "       33528.28816833, 33239.17964569,  7116.88513636, 37893.07691129,\n",
       "       12905.09288816, 10285.66381189, 30067.0206805 , 34024.93800996,\n",
       "       14888.93016326, 10902.24415542,    74.7986897 , 10645.86808861,\n",
       "        9622.69156029, 15120.99038702, 15003.93716188,  6033.8557655 ,\n",
       "       13689.1624836 , 25944.28069333, 28086.82325315, 27385.67546145,\n",
       "       35447.84728931, 27036.81522032,   522.77070533,  9250.68281102,\n",
       "        4746.8772643 , 12494.9634392 ,  5373.37324812,  4833.39658262,\n",
       "         912.67711125, 18875.68496908,  3153.39507624,  1581.75018573,\n",
       "       11759.76488218, 12581.4093422 , 11916.34278369,  3623.91582543,\n",
       "        8885.29604558, 13965.52213383,  7796.4378921 ,  6518.56925083,\n",
       "       36816.16156465, 12194.3846355 , 12271.80016111, 29354.69848176,\n",
       "       36222.68934673, 11656.13811719, 28186.20430972,  -554.39558688,\n",
       "        8242.17810118, 31711.60877192,  8249.8579971 ,  -816.52813613,\n",
       "        1036.80724777,  4658.48032708,  7515.07161152, 12654.10642474,\n",
       "       14937.54090833,  8777.30527026, 28970.09388139, 15876.56150017,\n",
       "       14751.04963898, 11089.43218638,  1912.09035686, 10064.79235283,\n",
       "        3816.50797776,  6079.24430965, 11517.90721981,  5420.13316301,\n",
       "       14607.22072342, 13744.63046944, 12829.93538287,  6980.09619844,\n",
       "       12424.8433788 , 10935.2817405 , 10277.97937398,  4484.80325446,\n",
       "        5691.88983992, 40587.18677962, 13185.47835603,  4240.12131114,\n",
       "        8386.00765779,  4724.53125383, 32312.77249786, 11266.50185393,\n",
       "       10969.60078329,  6867.01783924,  6395.88333597,  6637.09389108,\n",
       "       33091.51153535, 34886.13023561,  2032.26385749,  7644.1942877 ,\n",
       "        5157.91846637, 15609.30870768,  1371.23704308, 11559.62764842,\n",
       "       13486.62111136, 11511.94717172, 10520.21500989, 13278.11035999,\n",
       "        2264.8598312 , 27582.22415545,  2357.86740938, 14917.92544524,\n",
       "        6202.28709068, 10600.33430575, 14995.25510748, 39044.90966647,\n",
       "        1993.78973999,  1354.89151667,  5067.18566548,  7512.28003073,\n",
       "        7972.26708862,  4418.74673068, 10640.37943983,  9016.26214321,\n",
       "        9479.44717622, 11122.9658872 , 10312.45143209,  9334.75286654,\n",
       "        8015.88314535,   885.57749322, 10151.43371993,  7364.31018735,\n",
       "        6613.31979375, 11719.86341953,  5367.43137621, 32960.6756827 ,\n",
       "        7067.23279193,  6271.52812234,  7912.18437199, 39025.98881009,\n",
       "       11968.01709637, 28374.71817611,  2901.66565788, 33213.50609073,\n",
       "        3633.58977974, 31654.45019541, 13836.4197825 ,  2626.22715853,\n",
       "        1781.58806692,  1151.83771553,  6033.47060298,  4405.7985361 ])"
      ]
     },
     "execution_count": 30,
     "metadata": {},
     "output_type": "execute_result"
    }
   ],
   "source": [
    "lr.predict(x_test)"
   ]
  },
  {
   "cell_type": "code",
   "execution_count": 31,
   "id": "9b8adcef",
   "metadata": {},
   "outputs": [
    {
     "data": {
      "text/plain": [
       "559      1646.42970\n",
       "1087    11353.22760\n",
       "1020     8798.59300\n",
       "460     10381.47870\n",
       "802      2103.08000\n",
       "           ...     \n",
       "169      4827.90495\n",
       "349      1635.73365\n",
       "452      1969.61400\n",
       "1277     4357.04365\n",
       "1331    10795.93733\n",
       "Name: charges, Length: 228, dtype: float64"
      ]
     },
     "execution_count": 31,
     "metadata": {},
     "output_type": "execute_result"
    }
   ],
   "source": [
    "y_test"
   ]
  },
  {
   "cell_type": "markdown",
   "id": "29d6090e",
   "metadata": {},
   "source": [
    "### Model Evaluating"
   ]
  },
  {
   "cell_type": "code",
   "execution_count": 32,
   "id": "29caa93a",
   "metadata": {},
   "outputs": [
    {
     "data": {
      "text/plain": [
       "0.7511349424272281"
      ]
     },
     "execution_count": 32,
     "metadata": {},
     "output_type": "execute_result"
    }
   ],
   "source": [
    "lr.score(x_test, y_test)"
   ]
  },
  {
   "cell_type": "markdown",
   "id": "1b2a4f86",
   "metadata": {},
   "source": [
    "###### 75%  got accurancy by linear Regression"
   ]
  },
  {
   "cell_type": "code",
   "execution_count": 33,
   "id": "529aff28",
   "metadata": {},
   "outputs": [],
   "source": [
    "from sklearn import metrics\n"
   ]
  },
  {
   "cell_type": "code",
   "execution_count": 34,
   "id": "8364079d",
   "metadata": {},
   "outputs": [
    {
     "data": {
      "text/html": [
       "<div>\n",
       "<style scoped>\n",
       "    .dataframe tbody tr th:only-of-type {\n",
       "        vertical-align: middle;\n",
       "    }\n",
       "\n",
       "    .dataframe tbody tr th {\n",
       "        vertical-align: top;\n",
       "    }\n",
       "\n",
       "    .dataframe thead th {\n",
       "        text-align: right;\n",
       "    }\n",
       "</style>\n",
       "<table border=\"1\" class=\"dataframe\">\n",
       "  <thead>\n",
       "    <tr style=\"text-align: right;\">\n",
       "      <th></th>\n",
       "      <th>Metrics</th>\n",
       "    </tr>\n",
       "  </thead>\n",
       "  <tbody>\n",
       "    <tr>\n",
       "      <th>MAE</th>\n",
       "      <td>3.965306e+03</td>\n",
       "    </tr>\n",
       "    <tr>\n",
       "      <th>MSE</th>\n",
       "      <td>3.543334e+07</td>\n",
       "    </tr>\n",
       "    <tr>\n",
       "      <th>RMSE</th>\n",
       "      <td>5.952591e+03</td>\n",
       "    </tr>\n",
       "  </tbody>\n",
       "</table>\n",
       "</div>"
      ],
      "text/plain": [
       "           Metrics\n",
       "MAE   3.965306e+03\n",
       "MSE   3.543334e+07\n",
       "RMSE  5.952591e+03"
      ]
     },
     "execution_count": 34,
     "metadata": {},
     "output_type": "execute_result"
    }
   ],
   "source": [
    "#Using Metrics To Evaluate\n",
    "\n",
    "from sklearn import metrics\n",
    "y_pred=lr.predict(x_test)\n",
    "\n",
    "MAE= metrics.mean_absolute_error(y_test, y_pred)\n",
    "MSE= metrics.mean_squared_error(y_test, y_pred)\n",
    "RMSE=np.sqrt(MSE)\n",
    "\n",
    "pd.DataFrame([MAE, MSE, RMSE], index=['MAE', 'MSE', 'RMSE'], columns=['Metrics'])\n"
   ]
  },
  {
   "cell_type": "markdown",
   "id": "3cad4ce5",
   "metadata": {},
   "source": [
    "### Residuals (difference between y_test and y_pred)"
   ]
  },
  {
   "cell_type": "code",
   "execution_count": 35,
   "id": "931baf5a",
   "metadata": {},
   "outputs": [
    {
     "data": {
      "text/plain": [
       "559    -2648.793632\n",
       "1087   -1529.088996\n",
       "1020   -3823.228861\n",
       "460    -3041.914246\n",
       "802     1679.603521\n",
       "           ...     \n",
       "169     2201.677791\n",
       "349     -145.854417\n",
       "452      817.776284\n",
       "1277   -1676.426953\n",
       "1331    6390.138794\n",
       "Name: charges, Length: 228, dtype: float64"
      ]
     },
     "execution_count": 35,
     "metadata": {},
     "output_type": "execute_result"
    }
   ],
   "source": [
    "test_residuals=y_test-y_pred\n",
    "test_residuals"
   ]
  },
  {
   "cell_type": "code",
   "execution_count": 36,
   "id": "87ebedac",
   "metadata": {},
   "outputs": [
    {
     "data": {
      "image/png": "[encoded data removed]",
      "text/plain": [
       "<Figure size 432x288 with 1 Axes>"
      ]
     },
     "metadata": {
      "needs_background": "light"
     },
     "output_type": "display_data"
    }
   ],
   "source": [
    "## scatterplot between y_test, y_pred)\n",
    "sns.scatterplot(x=y_test, y=y_pred)\n",
    "plt.xlabel('Y-Test')\n",
    "plt.ylabel('Y-Pred')\n",
    "plt.show()"
   ]
  },
  {
   "cell_type": "code",
   "execution_count": 37,
   "id": "56dde4c1",
   "metadata": {},
   "outputs": [
    {
     "data": {
      "image/png": "[encoded data removed]",
      "text/plain": [
       "<Figure size 432x288 with 1 Axes>"
      ]
     },
     "metadata": {
      "needs_background": "light"
     },
     "output_type": "display_data"
    }
   ],
   "source": [
    "sns.scatterplot(x=y_test, y=test_residuals)\n",
    "plt.axhline(y=0, color='r', ls='--')\n",
    "plt.show()"
   ]
  },
  {
   "cell_type": "markdown",
   "id": "07c46ea4",
   "metadata": {},
   "source": [
    "### Saving and Loading the model "
   ]
  },
  {
   "cell_type": "code",
   "execution_count": 38,
   "id": "0d1af2d3",
   "metadata": {},
   "outputs": [],
   "source": [
    "import pickle"
   ]
  },
  {
   "cell_type": "code",
   "execution_count": 39,
   "id": "9aedd728",
   "metadata": {},
   "outputs": [],
   "source": [
    "with open(\"insurance_data_analysis\",\"wb\") as f:\n",
    "    pickle.dump(lr,f)"
   ]
  },
  {
   "cell_type": "code",
   "execution_count": 40,
   "id": "42e708a7",
   "metadata": {},
   "outputs": [],
   "source": [
    "with open(\"insurance_data_analysis\",\"rb\") as f:\n",
    "    mp= pickle.load(f)"
   ]
  },
  {
   "cell_type": "code",
   "execution_count": 41,
   "id": "6438755e",
   "metadata": {},
   "outputs": [
    {
     "data": {
      "text/plain": [
       "array([ 4295.22333156, 12882.31659619, 12621.8218609 , 13423.39294568,\n",
       "         423.47647917, 32092.81173687, 13051.41006487, 12351.81575071,\n",
       "        3718.30139229, 29534.32004471, 11098.4900534 , 17642.46344351,\n",
       "        8759.83433948,  8325.52067621,  3153.19251348, 10443.29718535,\n",
       "        3749.68479683,  6902.51537688, 15166.6358725 , 14491.20183866,\n",
       "       12583.65536663, 33079.98599756,  9025.64095923,  8964.30076395,\n",
       "        2957.87659866,  8105.62749512,  9552.52677964, 10849.77962614,\n",
       "        7668.79917862,  4312.93195315, 14190.6503765 ,  5754.13719951,\n",
       "       34662.61608711, 26927.2969608 , 33453.05163844,  9482.74298135,\n",
       "       30412.03239582, 26580.79029513, 15321.01739124, 33888.40772875,\n",
       "        6360.05451542, 14073.56787534, 10809.07556558, 15148.47833671,\n",
       "        4110.32690587, 13145.26323592,  4372.99089613, 28668.94479332,\n",
       "        7161.69875391, 14321.31050896, 13410.78588122, 12349.5483805 ,\n",
       "        1717.53284122,  8851.95142099, 26033.37810813, 10242.68392892,\n",
       "       34343.5522468 , 14591.30201086,  3158.81297598,  5955.92033291,\n",
       "        6623.1979359 , 15019.23026596, 26984.97083129,  3163.44022582,\n",
       "       15876.12623947, 11199.888181  , 11104.50435661, 10549.79085674,\n",
       "        1385.9240508 , 25196.55210892, 37589.6246305 , 33171.2863184 ,\n",
       "        1894.73537218, 11319.13520069, 13687.17232616, 35022.862219  ,\n",
       "        3079.31502582,  3896.20825229, 10348.95010067, 10393.79865137,\n",
       "        -194.06380538, 14084.68005555, 10297.34779635,  3079.12141421,\n",
       "       33528.28816833, 33239.17964569,  7116.88513636, 37893.07691129,\n",
       "       12905.09288816, 10285.66381189, 30067.0206805 , 34024.93800996,\n",
       "       14888.93016326, 10902.24415542,    74.7986897 , 10645.86808861,\n",
       "        9622.69156029, 15120.99038702, 15003.93716188,  6033.8557655 ,\n",
       "       13689.1624836 , 25944.28069333, 28086.82325315, 27385.67546145,\n",
       "       35447.84728931, 27036.81522032,   522.77070533,  9250.68281102,\n",
       "        4746.8772643 , 12494.9634392 ,  5373.37324812,  4833.39658262,\n",
       "         912.67711125, 18875.68496908,  3153.39507624,  1581.75018573,\n",
       "       11759.76488218, 12581.4093422 , 11916.34278369,  3623.91582543,\n",
       "        8885.29604558, 13965.52213383,  7796.4378921 ,  6518.56925083,\n",
       "       36816.16156465, 12194.3846355 , 12271.80016111, 29354.69848176,\n",
       "       36222.68934673, 11656.13811719, 28186.20430972,  -554.39558688,\n",
       "        8242.17810118, 31711.60877192,  8249.8579971 ,  -816.52813613,\n",
       "        1036.80724777,  4658.48032708,  7515.07161152, 12654.10642474,\n",
       "       14937.54090833,  8777.30527026, 28970.09388139, 15876.56150017,\n",
       "       14751.04963898, 11089.43218638,  1912.09035686, 10064.79235283,\n",
       "        3816.50797776,  6079.24430965, 11517.90721981,  5420.13316301,\n",
       "       14607.22072342, 13744.63046944, 12829.93538287,  6980.09619844,\n",
       "       12424.8433788 , 10935.2817405 , 10277.97937398,  4484.80325446,\n",
       "        5691.88983992, 40587.18677962, 13185.47835603,  4240.12131114,\n",
       "        8386.00765779,  4724.53125383, 32312.77249786, 11266.50185393,\n",
       "       10969.60078329,  6867.01783924,  6395.88333597,  6637.09389108,\n",
       "       33091.51153535, 34886.13023561,  2032.26385749,  7644.1942877 ,\n",
       "        5157.91846637, 15609.30870768,  1371.23704308, 11559.62764842,\n",
       "       13486.62111136, 11511.94717172, 10520.21500989, 13278.11035999,\n",
       "        2264.8598312 , 27582.22415545,  2357.86740938, 14917.92544524,\n",
       "        6202.28709068, 10600.33430575, 14995.25510748, 39044.90966647,\n",
       "        1993.78973999,  1354.89151667,  5067.18566548,  7512.28003073,\n",
       "        7972.26708862,  4418.74673068, 10640.37943983,  9016.26214321,\n",
       "        9479.44717622, 11122.9658872 , 10312.45143209,  9334.75286654,\n",
       "        8015.88314535,   885.57749322, 10151.43371993,  7364.31018735,\n",
       "        6613.31979375, 11719.86341953,  5367.43137621, 32960.6756827 ,\n",
       "        7067.23279193,  6271.52812234,  7912.18437199, 39025.98881009,\n",
       "       11968.01709637, 28374.71817611,  2901.66565788, 33213.50609073,\n",
       "        3633.58977974, 31654.45019541, 13836.4197825 ,  2626.22715853,\n",
       "        1781.58806692,  1151.83771553,  6033.47060298,  4405.7985361 ])"
      ]
     },
     "execution_count": 41,
     "metadata": {},
     "output_type": "execute_result"
    }
   ],
   "source": [
    "mp.predict(x_test)"
   ]
  },
  {
   "cell_type": "code",
   "execution_count": 42,
   "id": "3b726063",
   "metadata": {},
   "outputs": [],
   "source": [
    "#loading_model:\n",
    "from joblib import dump,load\n",
    "load_model= load(\"insurance_data_analysis\")\n"
   ]
  },
  {
   "cell_type": "markdown",
   "id": "13dc11d6",
   "metadata": {},
   "source": [
    "* The prediction is far from reality.\n",
    "* That could have several reasons , for example we didn't remove outliers.\n",
    "* we did not normalize the label distribution etc."
   ]
  },
  {
   "cell_type": "code",
   "execution_count": null,
   "id": "a5fbaf1d",
   "metadata": {},
   "outputs": [],
   "source": []
  }
 ],
 "metadata": {
  "kernelspec": {
   "display_name": "Python 3 (ipykernel)",
   "language": "python",
   "name": "python3"
  },
  "language_info": {
   "codemirror_mode": {
    "name": "ipython",
    "version": 3
   },
   "file_extension": ".py",
   "mimetype": "text/x-python",
   "name": "python",
   "nbconvert_exporter": "python",
   "pygments_lexer": "ipython3",
   "version": "3.9.7"
  }
 },
 "nbformat": 4,
 "nbformat_minor": 5
}
